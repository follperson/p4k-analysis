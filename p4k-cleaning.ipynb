{
 "cells": [
  {
   "cell_type": "code",
   "execution_count": 1,
   "metadata": {
    "scrolled": true
   },
   "outputs": [
    {
     "name": "stdout",
     "output_type": "stream",
     "text": [
      "(24174, 10)\n"
     ]
    },
    {
     "data": {
      "text/html": [
       "<div>\n",
       "<style scoped>\n",
       "    .dataframe tbody tr th:only-of-type {\n",
       "        vertical-align: middle;\n",
       "    }\n",
       "\n",
       "    .dataframe tbody tr th {\n",
       "        vertical-align: top;\n",
       "    }\n",
       "\n",
       "    .dataframe thead th {\n",
       "        text-align: right;\n",
       "    }\n",
       "</style>\n",
       "<table border=\"1\" class=\"dataframe\">\n",
       "  <thead>\n",
       "    <tr style=\"text-align: right;\">\n",
       "      <th></th>\n",
       "      <th>album</th>\n",
       "      <th>artist</th>\n",
       "      <th>body</th>\n",
       "      <th>date_published</th>\n",
       "      <th>genre</th>\n",
       "      <th>rating</th>\n",
       "      <th>record_label</th>\n",
       "      <th>title</th>\n",
       "      <th>url</th>\n",
       "      <th>search_base</th>\n",
       "    </tr>\n",
       "  </thead>\n",
       "  <tbody>\n",
       "    <tr>\n",
       "      <th>0</th>\n",
       "      <td>Wallop</td>\n",
       "      <td>[!!!]</td>\n",
       "      <td>[The New York party monsters change course, em...</td>\n",
       "      <td>2019-09-07T05:00:00</td>\n",
       "      <td>[Rock]</td>\n",
       "      <td>7.2</td>\n",
       "      <td>Warp</td>\n",
       "      <td>!!!: Wallop Album Review | Pitchfork</td>\n",
       "      <td>https://pitchfork.com/reviews/albums/-wallop/</td>\n",
       "      <td>NaN</td>\n",
       "    </tr>\n",
       "    <tr>\n",
       "      <th>1</th>\n",
       "      <td>Challenge Me Foolish</td>\n",
       "      <td>[µ-Ziq]</td>\n",
       "      <td>[Following two previous archival collections, ...</td>\n",
       "      <td>2018-04-16T05:00:00</td>\n",
       "      <td>[Electronic]</td>\n",
       "      <td>5.8</td>\n",
       "      <td>Planet Mu</td>\n",
       "      <td>µ-Ziq: Challenge Me Foolish Album Review | Pit...</td>\n",
       "      <td>https://pitchfork.com/reviews/albums/-ziq-chal...</td>\n",
       "      <td>NaN</td>\n",
       "    </tr>\n",
       "    <tr>\n",
       "      <th>2</th>\n",
       "      <td>God Level</td>\n",
       "      <td>[03 Greedo]</td>\n",
       "      <td>[The Los Angeles rapper’s final album before h...</td>\n",
       "      <td>2018-07-05T05:00:00</td>\n",
       "      <td>[Rap]</td>\n",
       "      <td>8.0</td>\n",
       "      <td>Alamo</td>\n",
       "      <td>03 Greedo: God Level Album Review | Pitchfork</td>\n",
       "      <td>https://pitchfork.com/reviews/albums/03-greedo...</td>\n",
       "      <td>NaN</td>\n",
       "    </tr>\n",
       "    <tr>\n",
       "      <th>3</th>\n",
       "      <td>Netflix &amp; Deal</td>\n",
       "      <td>[03 Greedo, Kenny Beats]</td>\n",
       "      <td>[The incarcerated Watts rapper’s latest is a l...</td>\n",
       "      <td>2019-12-05T06:00:00</td>\n",
       "      <td>[Rap]</td>\n",
       "      <td>7.5</td>\n",
       "      <td>Alamo</td>\n",
       "      <td>03 Greedo / Kenny Beats: Netflix &amp; Deal Album ...</td>\n",
       "      <td>https://pitchfork.com/reviews/albums/03-greedo...</td>\n",
       "      <td>NaN</td>\n",
       "    </tr>\n",
       "    <tr>\n",
       "      <th>4</th>\n",
       "      <td>Load It Up, Vol. 01</td>\n",
       "      <td>[03 Greedo, Ron-RonTheProducer]</td>\n",
       "      <td>[The latest from the incarcerated L.A. rapper,...</td>\n",
       "      <td>2020-08-27T05:00:00</td>\n",
       "      <td>[Rap]</td>\n",
       "      <td>7.5</td>\n",
       "      <td>Alamo</td>\n",
       "      <td>03 Greedo / Ron-RonTheProducer: Load It Up, Vo...</td>\n",
       "      <td>https://pitchfork.com/reviews/albums/03-greedo...</td>\n",
       "      <td>NaN</td>\n",
       "    </tr>\n",
       "  </tbody>\n",
       "</table>\n",
       "</div>"
      ],
      "text/plain": [
       "                  album                           artist  \\\n",
       "0                Wallop                            [!!!]   \n",
       "1  Challenge Me Foolish                          [µ-Ziq]   \n",
       "2             God Level                      [03 Greedo]   \n",
       "3        Netflix & Deal         [03 Greedo, Kenny Beats]   \n",
       "4   Load It Up, Vol. 01  [03 Greedo, Ron-RonTheProducer]   \n",
       "\n",
       "                                                body       date_published  \\\n",
       "0  [The New York party monsters change course, em...  2019-09-07T05:00:00   \n",
       "1  [Following two previous archival collections, ...  2018-04-16T05:00:00   \n",
       "2  [The Los Angeles rapper’s final album before h...  2018-07-05T05:00:00   \n",
       "3  [The incarcerated Watts rapper’s latest is a l...  2019-12-05T06:00:00   \n",
       "4  [The latest from the incarcerated L.A. rapper,...  2020-08-27T05:00:00   \n",
       "\n",
       "          genre rating record_label  \\\n",
       "0        [Rock]    7.2         Warp   \n",
       "1  [Electronic]    5.8    Planet Mu   \n",
       "2         [Rap]    8.0        Alamo   \n",
       "3         [Rap]    7.5        Alamo   \n",
       "4         [Rap]    7.5        Alamo   \n",
       "\n",
       "                                               title  \\\n",
       "0               !!!: Wallop Album Review | Pitchfork   \n",
       "1  µ-Ziq: Challenge Me Foolish Album Review | Pit...   \n",
       "2      03 Greedo: God Level Album Review | Pitchfork   \n",
       "3  03 Greedo / Kenny Beats: Netflix & Deal Album ...   \n",
       "4  03 Greedo / Ron-RonTheProducer: Load It Up, Vo...   \n",
       "\n",
       "                                                 url search_base  \n",
       "0      https://pitchfork.com/reviews/albums/-wallop/         NaN  \n",
       "1  https://pitchfork.com/reviews/albums/-ziq-chal...         NaN  \n",
       "2  https://pitchfork.com/reviews/albums/03-greedo...         NaN  \n",
       "3  https://pitchfork.com/reviews/albums/03-greedo...         NaN  \n",
       "4  https://pitchfork.com/reviews/albums/03-greedo...         NaN  "
      ]
     },
     "execution_count": 1,
     "metadata": {},
     "output_type": "execute_result"
    }
   ],
   "source": [
    "import pandas as pd\n",
    "from nltk.corpus import stopwords\n",
    "import numpy as np\n",
    "import re\n",
    "# import spacy\n",
    "import matplotlib.pyplot as plt\n",
    "# nlp = spacy.load('en_core_web_sm')\n",
    "df = pd.read_pickle(\"data/FullAlbums.pkl\").T\n",
    "print(df.shape)\n",
    "df.head()"
   ]
  },
  {
   "cell_type": "code",
   "execution_count": 2,
   "metadata": {},
   "outputs": [],
   "source": [
    "ignore = (df.body.str.len() == 0) | (df.genre.str.len() == 0)\n",
    "ignore = (df.rating == 'Error') | (df.body == 'Error')\n",
    "df = df.loc[~ignore, :]\n",
    "df.rating = df.rating.astype(float)"
   ]
  },
  {
   "cell_type": "code",
   "execution_count": 3,
   "metadata": {},
   "outputs": [],
   "source": [
    "unique_genres = set([genre for list_of_genres in df['genre'].tolist() for genre in list_of_genres])\n",
    "for genre in unique_genres:\n",
    "    df[genre] = df['genre'].apply(lambda x: genre in x)"
   ]
  },
  {
   "cell_type": "code",
   "execution_count": 4,
   "metadata": {},
   "outputs": [],
   "source": [
    "df['body_paragraph_breaks'] = df['body'].apply(lambda x: '\\n'.join(x))\n",
    "df['body_no_paragraph'] = df['body'].apply(lambda x: ' '.join(x))"
   ]
  },
  {
   "cell_type": "code",
   "execution_count": 5,
   "metadata": {},
   "outputs": [],
   "source": [
    "from sklearn.model_selection import train_test_split\n",
    "df = df.loc[:, ['title','date_published','body_paragraph_breaks','body_no_paragraph','rating'] + list(unique_genres)]\n",
    "train, test = train_test_split(df, random_state=11, test_size=0.25, shuffle=True)"
   ]
  },
  {
   "cell_type": "code",
   "execution_count": 6,
   "metadata": {},
   "outputs": [],
   "source": [
    "fn = '20211218_full'\n",
    "train.to_csv(f'data/train_{fn}.csv')\n",
    "test.to_csv(f'data/test_{fn}.csv')\n",
    "\n",
    "train.to_pickle(f'data/train_{fn}.pkl')\n",
    "test.to_pickle(f'data/test_{fn}.pkl')"
   ]
  }
 ],
 "metadata": {
  "kernelspec": {
   "display_name": "Python 3 (ipykernel)",
   "language": "python",
   "name": "python3"
  },
  "language_info": {
   "codemirror_mode": {
    "name": "ipython",
    "version": 3
   },
   "file_extension": ".py",
   "mimetype": "text/x-python",
   "name": "python",
   "nbconvert_exporter": "python",
   "pygments_lexer": "ipython3",
   "version": "3.8.11"
  }
 },
 "nbformat": 4,
 "nbformat_minor": 2
}

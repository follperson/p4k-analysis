{
 "cells": [
  {
   "cell_type": "code",
   "execution_count": 1,
   "metadata": {},
   "outputs": [],
   "source": [
    "import pandas as pd\n",
    "from nltk.corpus import stopwords\n",
    "import re\n",
    "import spacy\n",
    "import matplotlib.pyplot as plt\n",
    "nlp = spacy.load('en_core_web_sm')\n",
    "df = pd.read_excel(r\"C:\\Users\\follm\\Documents\\coding\\music-blog-analyzer\\scraping\\Pitchfork Albums\\page 1 to 100001 data scraping_2020-01-10.xlsx\")"
   ]
  },
  {
   "cell_type": "code",
   "execution_count": 2,
   "metadata": {},
   "outputs": [],
   "source": [
    "df['genre_split'] = df['genre'].apply(lambda x: [] if pd.isnull(x) else eval(x))\n",
    "unique_genres = set([genre for list_of_genres in df['genre_split'].tolist() for genre in list_of_genres])\n",
    "for genre in unique_genres:\n",
    "    df[genre] = df['genre_split'].apply(lambda x: genre in x)"
   ]
  },
  {
   "cell_type": "code",
   "execution_count": 3,
   "metadata": {},
   "outputs": [
    {
     "data": {
      "text/html": [
       "<div>\n",
       "<style scoped>\n",
       "    .dataframe tbody tr th:only-of-type {\n",
       "        vertical-align: middle;\n",
       "    }\n",
       "\n",
       "    .dataframe tbody tr th {\n",
       "        vertical-align: top;\n",
       "    }\n",
       "\n",
       "    .dataframe thead th {\n",
       "        text-align: right;\n",
       "    }\n",
       "</style>\n",
       "<table border=\"1\" class=\"dataframe\">\n",
       "  <thead>\n",
       "    <tr style=\"text-align: right;\">\n",
       "      <th></th>\n",
       "      <th>Category</th>\n",
       "      <th>Count</th>\n",
       "    </tr>\n",
       "  </thead>\n",
       "  <tbody>\n",
       "    <tr>\n",
       "      <th>count</th>\n",
       "      <td>9</td>\n",
       "      <td>9</td>\n",
       "    </tr>\n",
       "    <tr>\n",
       "      <th>unique</th>\n",
       "      <td>9</td>\n",
       "      <td>9</td>\n",
       "    </tr>\n",
       "    <tr>\n",
       "      <th>top</th>\n",
       "      <td>Folk/Country</td>\n",
       "      <td>2238</td>\n",
       "    </tr>\n",
       "    <tr>\n",
       "      <th>freq</th>\n",
       "      <td>1</td>\n",
       "      <td>1</td>\n",
       "    </tr>\n",
       "  </tbody>\n",
       "</table>\n",
       "</div>"
      ],
      "text/plain": [
       "            Category  Count\n",
       "count              9      9\n",
       "unique             9      9\n",
       "top     Folk/Country   2238\n",
       "freq               1      1"
      ]
     },
     "execution_count": 3,
     "metadata": {},
     "output_type": "execute_result"
    }
   ],
   "source": [
    "df_counts = pd.DataFrame([unique_genres,[sum(df[genre]) for genre in unique_genres]]).T\n",
    "df_counts.columns=['Category','Count']\n",
    "df_counts.describe()"
   ]
  },
  {
   "cell_type": "code",
   "execution_count": 4,
   "metadata": {},
   "outputs": [
    {
     "data": {
      "image/png": "[encoded data removed]",
      "text/plain": [
       "<Figure size 432x288 with 1 Axes>"
      ]
     },
     "metadata": {
      "needs_background": "light"
     },
     "output_type": "display_data"
    }
   ],
   "source": [
    "plt.bar(x=df_counts.Category, height=df_counts.Count)\n",
    "plt.show()"
   ]
  },
  {
   "cell_type": "code",
   "execution_count": 5,
   "metadata": {},
   "outputs": [],
   "source": [
    "REPLACE_BY_SPACE_RE = re.compile('[/(){}\\[\\]\\|@,;]')\n",
    "BAD_SYMBOLS_RE = re.compile('[^0-9a-z #+_]')\n",
    "STOPWORDS = set(stopwords.words('english'))\n",
    "def clean_description(x):\n",
    "    x = eval(x)\n",
    "    text = ' '.join([pp for pp in x if not re.search('^Buy: |Pitchfork may .* affiliate', pp)]).lower()\n",
    "    text = REPLACE_BY_SPACE_RE.sub(' ', text) # replace REPLACE_BY_SPACE_RE symbols by space in text\n",
    "    text = BAD_SYMBOLS_RE.sub('', text) # delete symbols which are in BAD_SYMBOLS_RE from text\n",
    "    text = ' '.join(word for word in text.split() if word not in STOPWORDS) # delete stopwors from text\n",
    "    text = ' '.join(tok.lemma_ for tok in nlp(text))\n",
    "    return text\n",
    "\n",
    "df['body_clean'] = df['body'].apply(lambda x: clean_description(x))"
   ]
  },
  {
   "cell_type": "code",
   "execution_count": 8,
   "metadata": {},
   "outputs": [
    {
     "data": {
      "text/plain": [
       "0      Electronic\n",
       "1            Jazz\n",
       "2           Metal\n",
       "3            Rock\n",
       "4         Pop/R&B\n",
       "5             Rap\n",
       "6    Experimental\n",
       "7    Folk/Country\n",
       "8          Global\n",
       "Name: Category, dtype: object"
      ]
     },
     "execution_count": 8,
     "metadata": {},
     "output_type": "execute_result"
    }
   ],
   "source": [
    "df_counts.Category"
   ]
  },
  {
   "cell_type": "code",
   "execution_count": 9,
   "metadata": {},
   "outputs": [],
   "source": [
    "from sklearn.model_selection import train_test_split\n",
    "train, test = train_test_split(df[df_counts.Category.tolist() + ['body_clean']], random_state=11, test_size=0.25, shuffle=True)\n",
    "from sklearn.feature_extraction.text import TfidfVectorizer\n",
    "vectorizer = TfidfVectorizer(strip_accents='unicode', analyzer='word', ngram_range=(1,3), norm='l2')\n",
    "vectorizer.fit(train['body_clean'])\n",
    "vectorizer.fit(test['body_clean'])\n",
    "x_train = vectorizer.transform(train['body_clean'])\n",
    "y_train = train.drop(labels = ['body_clean'], axis=1)\n",
    "x_test = vectorizer.transform(test['body_clean'])\n",
    "y_test = test.drop(labels = ['body_clean'], axis=1)\n",
    "\n",
    "\n",
    "\n"
   ]
  },
  {
   "cell_type": "code",
   "execution_count": 10,
   "metadata": {},
   "outputs": [
    {
     "name": "stdout",
     "output_type": "stream",
     "text": [
      "**Processing Electronic ...**\n",
      "Test accuracy is 0.8108794197642792\n",
      "\n",
      "\n",
      "**Processing Jazz ...**\n",
      "Test accuracy is 0.9746146872166818\n",
      "\n",
      "\n",
      "**Processing Metal ...**\n",
      "Test accuracy is 0.9537624660018132\n",
      "\n",
      "\n",
      "**Processing Rock ...**\n",
      "Test accuracy is 0.8181323662737987\n",
      "\n",
      "\n",
      "**Processing Pop/R&B ...**\n",
      "Test accuracy is 0.9185856754306437\n",
      "\n",
      "\n",
      "**Processing Rap ...**\n",
      "Test accuracy is 0.9053490480507707\n",
      "\n",
      "\n",
      "**Processing Experimental ...**\n",
      "Test accuracy is 0.9075249320036265\n",
      "\n",
      "\n",
      "**Processing Folk/Country ...**\n",
      "Test accuracy is 0.9639165911151405\n",
      "\n",
      "\n",
      "**Processing Global ...**\n",
      "Test accuracy is 0.9902085222121487\n",
      "\n",
      "\n"
     ]
    }
   ],
   "source": [
    "# https://towardsdatascience.com/journey-to-the-center-of-multi-label-classification-384c40229bff\n",
    "from sklearn.linear_model import LogisticRegression\n",
    "from sklearn.pipeline import Pipeline\n",
    "from sklearn.metrics import accuracy_score\n",
    "from sklearn.multiclass import OneVsRestClassifier\n",
    "# Using pipeline for applying logistic regression and one vs rest classifier\n",
    "LogReg_pipeline = Pipeline([\n",
    "                ('clf', OneVsRestClassifier(LogisticRegression(solver='sag'), n_jobs=-1)),\n",
    "            ])\n",
    "for category in df_counts.Category:\n",
    "    print('**Processing {} ...**'.format(category))\n",
    "    \n",
    "    # Training logistic regression model on train data\n",
    "    LogReg_pipeline.fit(x_train, train[category])\n",
    "    \n",
    "    # calculating test accuracy\n",
    "    prediction = LogReg_pipeline.predict(x_test)\n",
    "    print('Test accuracy is {}'.format(accuracy_score(test[category], prediction)))\n",
    "    print(\"\\n\")\n"
   ]
  },
  {
   "cell_type": "code",
   "execution_count": 24,
   "metadata": {},
   "outputs": [
    {
     "data": {
      "text/plain": [
       "20"
      ]
     },
     "execution_count": 24,
     "metadata": {},
     "output_type": "execute_result"
    }
   ],
   "source": [
    "beg\n",
    "end = 7\n"
   ]
  }
 ],
 "metadata": {
  "kernelspec": {
   "display_name": "Python 3",
   "language": "python",
   "name": "python3"
  },
  "language_info": {
   "codemirror_mode": {
    "name": "ipython",
    "version": 3
   },
   "file_extension": ".py",
   "mimetype": "text/x-python",
   "name": "python",
   "nbconvert_exporter": "python",
   "pygments_lexer": "ipython3",
   "version": "3.7.6"
  }
 },
 "nbformat": 4,
 "nbformat_minor": 2
}
